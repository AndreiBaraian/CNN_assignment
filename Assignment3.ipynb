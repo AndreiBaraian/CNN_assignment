{
  "nbformat": 4,
  "nbformat_minor": 0,
  "metadata": {
    "kernelspec": {
      "display_name": "Python 3",
      "language": "python",
      "name": "python3"
    },
    "language_info": {
      "codemirror_mode": {
        "name": "ipython",
        "version": 3
      },
      "file_extension": ".py",
      "mimetype": "text/x-python",
      "name": "python",
      "nbconvert_exporter": "python",
      "pygments_lexer": "ipython3",
      "version": "3.7.5"
    },
    "colab": {
      "name": "Assignment3.ipynb",
      "provenance": []
    }
  },
  "cells": [
    {
      "cell_type": "markdown",
      "metadata": {
        "id": "riQcmyLqGG5T",
        "colab_type": "text"
      },
      "source": [
        "# 521153S, Deep Learning assignment 3: Dataset and Convolutional Neural Networks\n",
        "\n"
      ]
    },
    {
      "cell_type": "markdown",
      "metadata": {
        "id": "PILMJ4dyGG5X",
        "colab_type": "text"
      },
      "source": [
        "## Outline \n",
        "#### In this assignment, you will learn:\n",
        "* Writing custom dataset in Pytorch with training, validation and testing data.\n",
        "* Building a Convolutional Neural Network (CNN) in Pytorch.\n",
        "* Training and testing your CNN in Pytorch.\n",
        "\n",
        "#### Tasks (<span style=\"color:red\">15 points or more</span>)\n",
        "* **Part 1.** Writing a custom dataset based on [**Fashion-MNIST**](https://github.com/zalandoresearch/fashion-mnist). Spliting the whole dataset into 3 parts: training, validation and testing. (<span style=\"color:red\">5.5 points</span>)\n",
        "    * 1.1. Define a Dataset class (<span style=\"color:red\">2 points</span>)\n",
        "    * 1.2. Dataset checking (<span style=\"color:red\">2.5 points</span>)\n",
        "    * 1.3. Iterating through the dataset with batches (<span style=\"color:red\">1 points</span>)<br>\n",
        "* **Part 2.** Build a CNN on your own. (<span style=\"color:red\">3.5 points</span>) <br>\n",
        "* **Part 3.** Train and test your CNN. (<span style=\"color:red\">6 points or more</span>)\n",
        "    * 3.1. Create functions for train and evaluation (<span style=\"color:red\">2.5 points</span>) <br>\n",
        "    * 3.2. Train and test your network (<span style=\"color:red\">1.5 point</span>) <br>\n",
        "    * 3.3. Modification for your training (<span style=\"color:red\">1 point or more</span>) <br>\n",
        "    * Question: give your ideas to accelerate your training process (<span style=\"color:red\">1 points or more</span>)\n",
        "\n",
        "\n",
        "#### Environment\n",
        "Python 3, Numpy, matplotlib, torch, torchvision\n",
        "\n",
        "#### Dataset\n",
        "* [**Fashion-MNIST**](https://github.com/zalandoresearch/fashion-mnist)\n",
        "is a dataset of Zalando's article images—consisting of a training set of 60,000 examples and a test set of 10,000 examples. Here we are to split the 60,000 images in the predefined training set into a new training set with 50,000 images and a validation set with 10,000 images. Each example is a 28x28 grayscale image, associated with a label from 10 classes. We intend Fashion-MNIST to serve as a direct drop-in replacement for the original MNIST dataset for benchmarking machine learning algorithms. It shares the same image size and structure of training, validation and testing splits. Using the Fashion-MNIST give you more room to wiggle your experiments.\n",
        "\n",
        "#### Hints\n",
        "* To find the place where you have to insert your solution, hit Crtl + F and search for **TODO:** . You are not supposed to modify the codes from other parts.\n",
        "* Be careful with the shapes of the tensors flowing through the CNN model, making all the operations has compatible inputs and outputs. "
      ]
    },
    {
      "cell_type": "markdown",
      "metadata": {
        "id": "E9ARe0BAGG5Y",
        "colab_type": "text"
      },
      "source": [
        "## Part 1. Writing a custom dataset with Pytorch (<span style=\"color:red\">5.5 points</span>)\n",
        "**Requirement**: Download the Fashion-MNIST dataset, which contains 60,000 images in the predefined training set and 10,000 images in the testing set. Our goal is to write a customer dataset that could be loaded by [torch.utils.data.DataLoader](https://pytorch.org/tutorials/beginner/data_loading_tutorial.html#iterating-through-the-dataset). The 60,000 images in the predefined training set should be splited into a new training set and a validation set as mentioned above. ***Specifically, there are same number of images for each class both in the new training set and the validation set.*** I.e, in the new training set which has in total 10 classes and 50,000 image samples, each class has 5000 image samples while in the validation set, each class has 1000 samples."
      ]
    },
    {
      "cell_type": "markdown",
      "metadata": {
        "id": "f7AWpxBEGG5a",
        "colab_type": "text"
      },
      "source": [
        "### Part 1.1. Define a Dataset class (<span style=\"color:red\">2 points</span>)\n",
        "torch.utils.data.Dataset is an abstract class representing a dataset. Your custom dataset should inherit `torch.utils.data.Dataset` and override the following methods:\n",
        "* `__len__` so that len(dataset) returns the size of the dataset.\n",
        "* `__getitem__` to support the indexing such that dataset[i] can be used to get ith sample\n",
        "\n",
        "Let’s create a dataset class for our fashion MNIST dataset. We will download the dataset from google drive following Assignment2 firstly. Then, split the training set in `__init__`, return the size of this dataset in `__len__` and get each item in `__getitem__`. "
      ]
    },
    {
      "cell_type": "code",
      "metadata": {
        "id": "kk95dKRjGG5b",
        "colab_type": "code",
        "colab": {},
        "outputId": "3dd2d4c0-2712-49bc-c5c0-c5f223628803"
      },
      "source": [
        "#Andrei B.\n",
        "# import necessary packages\n",
        "import os \n",
        "import torch \n",
        "import requests, zipfile, sys\n",
        "import numpy as np\n",
        "import matplotlib.pyplot as plt \n",
        "from torch.utils.data import Dataset, DataLoader\n",
        "from download_fashion_mnist import download_fm\n",
        "import torchvision\n",
        "from PIL import Image\n",
        "import torch\n",
        "import torch.nn as nn\n",
        "import torch.nn.functional as F\n",
        "import torch.optim as optim\n",
        "from torchvision import transforms\n",
        "import wandb\n",
        "\n",
        "\n",
        "# Download fashion_MNIST from google drive and creating indices for training and validation set\n",
        "root_dir='data'\n",
        "download_fm(root_dir)\n",
        "      \n",
        "data_dir = os.path.join(root_dir, 'fashion_mnist_npy')\n",
        "\n",
        "train_data = np.load(os.path.join(data_dir, 'train_data.npy'))\n",
        "test_data = np.load(os.path.join(data_dir, 'test_data.npy'))\n",
        "train_label = np.load(os.path.join(data_dir, 'train_labels.npy'))\n",
        "test_label = np.load(os.path.join(data_dir, 'test_labels.npy'))\n",
        "\n",
        "# split the training data to a new training data and validation data\n",
        "class_indices = [[] for i in range(10)]\n",
        "for i, v in enumerate(train_label):\n",
        "    class_indices[v].append(i)\n",
        "    \n",
        "indices_all = np.random.permutation(len(class_indices[0]))\n",
        "# take the first 1000 indices of indices_all\n",
        "indices = indices_all[:1000]\n",
        "# take the rest of the indices of indices_all\n",
        "indices_rest = indices_all[1000:]\n",
        "\n",
        "valid_indices = []\n",
        "train_indices = []\n",
        "for i in range(10):\n",
        "    # build indices for validation set\n",
        "    valid_indices.extend(np.array(class_indices[i])[indices])\n",
        "    # TODO: build indices for training set (0.5 points)\n",
        "    train_indices.extend(np.array(class_indices[i])[indices_rest])\n",
        "\n",
        "# write the custom dataset based on the downloaded data and the indices\n",
        "class FashionMnist(Dataset):\n",
        "    \"\"\"Fashion Mnist dataset\"\"\" \n",
        "\n",
        "    def __init__(self, phase='train', transform=None):\n",
        "        # download fashion_mnist data following Assignment2\n",
        "\n",
        "        # TODO: now, split the predefined training data (1.5 points)\n",
        "        if 'train' == phase:\n",
        "            self.data = train_data[train_indices]\n",
        "            self.label = train_label[train_indices]\n",
        "        elif 'valid' == phase:\n",
        "            self.data = train_data[valid_indices]\n",
        "            self.label = train_label[valid_indices]\n",
        "        elif 'test' == phase:\n",
        "            self.data = test_data\n",
        "            self.label = test_label\n",
        "        else:\n",
        "            assert True, 'wrong phase'\n",
        "            \n",
        "\n",
        "        self.transform = transform \n",
        "        \n",
        "        self.label_names = ['T-shirt/top', 'Trouser', 'Pullover', 'Dress', 'Coat', \n",
        "               'Sandal', 'Shirt', 'Sneaker', 'Bag', 'Ankle boot']\n",
        "\n",
        "    def __len__(self):\n",
        "        return len(self.data)\n",
        "\n",
        "    def __getitem__(self, index):\n",
        "        \n",
        "        img, label = self.data[index], self.label[index]\n",
        "\n",
        "        # doing this so that it is consistent with all other datasets\n",
        "        # to return a PIL Image\n",
        "        img = Image.fromarray(img, mode='L')\n",
        "\n",
        "        if self.transform is not None:\n",
        "            img = self.transform(img)\n",
        "\n",
        "        return img, label"
      ],
      "execution_count": 0,
      "outputs": [
        {
          "output_type": "stream",
          "text": [
            "Data was already downloaded and extracted!\n"
          ],
          "name": "stdout"
        }
      ]
    },
    {
      "cell_type": "code",
      "metadata": {
        "id": "K_ta4FaWGli6",
        "colab_type": "code",
        "colab": {}
      },
      "source": [
        ""
      ],
      "execution_count": 0,
      "outputs": []
    },
    {
      "cell_type": "code",
      "metadata": {
        "id": "EnuHzPAsGlzL",
        "colab_type": "code",
        "colab": {}
      },
      "source": [
        ""
      ],
      "execution_count": 0,
      "outputs": []
    },
    {
      "cell_type": "code",
      "metadata": {
        "id": "rfC6zPglGmCh",
        "colab_type": "code",
        "colab": {}
      },
      "source": [
        ""
      ],
      "execution_count": 0,
      "outputs": []
    },
    {
      "cell_type": "code",
      "metadata": {
        "id": "LTU_X0YSGmUV",
        "colab_type": "code",
        "colab": {}
      },
      "source": [
        ""
      ],
      "execution_count": 0,
      "outputs": []
    },
    {
      "cell_type": "markdown",
      "metadata": {
        "id": "KZ5jf2EgGG5g",
        "colab_type": "text"
      },
      "source": [
        "### Part 1.2. Dataset checking (<span style=\"color:red\">2.5 points</span>)\n",
        "First, randomly show some images in training, validation and testing data and check if the images have correct labels.<br>\n",
        "Secondly, check the number of images for each class, to make sure the dataset created correctly."
      ]
    },
    {
      "cell_type": "code",
      "metadata": {
        "id": "VaTaw707GG5h",
        "colab_type": "code",
        "colab": {},
        "outputId": "fd4c88fa-f41a-41a0-e1c0-bac3b4891a21"
      },
      "source": [
        "# checking training set\n",
        "# randomly show some samples and their labels\n",
        "# TODO: create a FashionMnist dataset for training, set transform to None (0.5 points)\n",
        "train_set =  FashionMnist() #this is the first 0.25 points, see the rest 0.25 points in Part 1.3\n",
        "\n",
        "num_to_show = 5\n",
        "idx = np.random.choice(range(len(train_set)), num_to_show, replace=False)\n",
        "\n",
        "fig = plt.figure(figsize=(16, 8))\n",
        "\n",
        "for i in range(len(idx)):\n",
        "    image, label = train_set[idx[i]]\n",
        "    label_name = train_set.label_names[label]\n",
        "\n",
        "    ax = plt.subplot(1, num_to_show, i + 1)\n",
        "    plt.tight_layout()\n",
        "    ax.set_title('class #{}'.format(label_name))\n",
        "    ax.axis('off')\n",
        "    plt.imshow(np.asarray(image))\n",
        "\n",
        "plt.show()\n",
        "\n",
        "# print number of images for each class\n",
        "print('total number of training set: {}'.format(len(train_set)))\n",
        "for i in range(10):\n",
        "    print('numer of images for class {}: {}'.format(train_set.label_names[i], np.sum(train_set.label==i)))"
      ],
      "execution_count": 0,
      "outputs": [
        {
          "output_type": "display_data",
          "data": {
            "image/png": "[encoded data removed]",
            "text/plain": [
              "<Figure size 1152x576 with 5 Axes>"
            ]
          },
          "metadata": {
            "tags": [],
            "needs_background": "light"
          }
        },
        {
          "output_type": "stream",
          "text": [
            "total number of training set: 50000\n",
            "numer of images for class T-shirt/top: 5000\n",
            "numer of images for class Trouser: 5000\n",
            "numer of images for class Pullover: 5000\n",
            "numer of images for class Dress: 5000\n",
            "numer of images for class Coat: 5000\n",
            "numer of images for class Sandal: 5000\n",
            "numer of images for class Shirt: 5000\n",
            "numer of images for class Sneaker: 5000\n",
            "numer of images for class Bag: 5000\n",
            "numer of images for class Ankle boot: 5000\n"
          ],
          "name": "stdout"
        }
      ]
    },
    {
      "cell_type": "code",
      "metadata": {
        "id": "1JZ0KeGxGG5k",
        "colab_type": "code",
        "colab": {},
        "outputId": "3fb5abec-e4a9-4fa6-933d-4065fc88ef71"
      },
      "source": [
        "# TODO:checking validation data (1 points)\n",
        "valid_set =  FashionMnist(phase='valid') \n",
        "\n",
        "num_to_show = 5\n",
        "idx = np.random.choice(range(len(valid_set)), num_to_show, replace=False)\n",
        "\n",
        "fig = plt.figure(figsize=(16, 8))\n",
        "\n",
        "for i in range(len(idx)):\n",
        "    image, label = valid_set[idx[i]]\n",
        "    label_name = valid_set.label_names[label]\n",
        "\n",
        "    ax = plt.subplot(1, num_to_show, i + 1)\n",
        "    plt.tight_layout()\n",
        "    ax.set_title('class #{}'.format(label_name))\n",
        "    ax.axis('off')\n",
        "    plt.imshow(np.asarray(image))\n",
        "\n",
        "plt.show()\n",
        "\n",
        "# print number of images for each class\n",
        "print('total number of validation set: {}'.format(len(valid_set)))\n",
        "for i in range(10):\n",
        "    print('numer of images for class {}: {}'.format(valid_set.label_names[i], np.sum(valid_set.label==i)))"
      ],
      "execution_count": 0,
      "outputs": [
        {
          "output_type": "display_data",
          "data": {
            "image/png": "[encoded data removed]",
            "text/plain": [
              "<Figure size 1152x576 with 5 Axes>"
            ]
          },
          "metadata": {
            "tags": [],
            "needs_background": "light"
          }
        },
        {
          "output_type": "stream",
          "text": [
            "total number of validation set: 10000\n",
            "numer of images for class T-shirt/top: 1000\n",
            "numer of images for class Trouser: 1000\n",
            "numer of images for class Pullover: 1000\n",
            "numer of images for class Dress: 1000\n",
            "numer of images for class Coat: 1000\n",
            "numer of images for class Sandal: 1000\n",
            "numer of images for class Shirt: 1000\n",
            "numer of images for class Sneaker: 1000\n",
            "numer of images for class Bag: 1000\n",
            "numer of images for class Ankle boot: 1000\n"
          ],
          "name": "stdout"
        }
      ]
    },
    {
      "cell_type": "code",
      "metadata": {
        "id": "UdGAiDVCGG5n",
        "colab_type": "code",
        "colab": {},
        "outputId": "73d730c2-28c7-44db-8172-c5faef0f2534"
      },
      "source": [
        "# TODO: checking testing data (1 points)\n",
        "test_set =  FashionMnist(phase='test') \n",
        "\n",
        "num_to_show = 5\n",
        "idx = np.random.choice(range(len(test_set)), num_to_show, replace=False)\n",
        "\n",
        "fig = plt.figure(figsize=(16, 8))\n",
        "\n",
        "for i in range(len(idx)):\n",
        "    image, label = test_set[idx[i]]\n",
        "    label_name = test_set.label_names[label]\n",
        "\n",
        "    ax = plt.subplot(1, num_to_show, i + 1)\n",
        "    plt.tight_layout()\n",
        "    ax.set_title('class #{}'.format(label_name))\n",
        "    ax.axis('off')\n",
        "    plt.imshow(np.asarray(image))\n",
        "\n",
        "plt.show()\n",
        "\n",
        "# print number of images for each class\n",
        "print('total number of validation set: {}'.format(len(test_set)))\n",
        "for i in range(10):\n",
        "    print('numer of images for class {}: {}'.format(test_set.label_names[i], np.sum(test_set.label==i)))"
      ],
      "execution_count": 0,
      "outputs": [
        {
          "output_type": "display_data",
          "data": {
            "image/png": "[encoded data removed]",
            "text/plain": [
              "<Figure size 1152x576 with 5 Axes>"
            ]
          },
          "metadata": {
            "tags": [],
            "needs_background": "light"
          }
        },
        {
          "output_type": "stream",
          "text": [
            "total number of validation set: 10000\n",
            "numer of images for class T-shirt/top: 1000\n",
            "numer of images for class Trouser: 1000\n",
            "numer of images for class Pullover: 1000\n",
            "numer of images for class Dress: 1000\n",
            "numer of images for class Coat: 1000\n",
            "numer of images for class Sandal: 1000\n",
            "numer of images for class Shirt: 1000\n",
            "numer of images for class Sneaker: 1000\n",
            "numer of images for class Bag: 1000\n",
            "numer of images for class Ankle boot: 1000\n"
          ],
          "name": "stdout"
        }
      ]
    },
    {
      "cell_type": "markdown",
      "metadata": {
        "id": "HhdYrEElGG5q",
        "colab_type": "text"
      },
      "source": [
        "### Part 1.3. Iterating through the dataset with batches (<span style=\"color:red\">1 points</span>)\n",
        "Here, we add more features with the help of [DataLoader](https://pytorch.org/tutorials/beginner/data_loading_tutorial.html#iterating-through-the-dataset):\n",
        "* Batching the data\n",
        "* Shuffling the data\n",
        "* Load the data in parallel using multiprocessing workers.\n",
        "\n",
        "`torch.utils.data.DataLoader` is an iterator which provides all these features. Parameters used below should be clear. One parameter of interest is collate_fn. You can specify how exactly the samples need to be batched using collate_fn. However, default collate should work fine for most use cases.\n",
        "\n",
        "The `DataLoader` takes as input an instance of `FashionMnist` we defined in Part 1.1. Since images in the dataset currently are all in PIL format, we have to convert them to torch.Tensor by using a transform. Actually, `transform` is often used for data augmentation, further illustrations of `transform` can be found in [https://pytorch.org/tutorials/beginner/data_loading_tutorial.html#writing-custom-datasets-dataloaders-and-transforms](https://pytorch.org/tutorials/beginner/data_loading_tutorial.html#writing-custom-datasets-dataloaders-and-transforms)."
      ]
    },
    {
      "cell_type": "code",
      "metadata": {
        "id": "6anBGVXaGG5r",
        "colab_type": "code",
        "colab": {}
      },
      "source": [
        "# Set batch_size to 64, shuffling the training set and use 2 workers to do parallel reading.\n",
        "data_transform = transforms.Compose([transforms.ToTensor()])\n",
        "train_set =  FashionMnist(phase='train', transform=data_transform)  #the other 0.25 points for creating a FashionMnist dataset for training\n",
        "train_loader = DataLoader(train_set, batch_size=64, shuffle=True, num_workers=2)\n",
        "\n",
        "# TODO: create test_loader and valid_loader with no shuffling (1 points)\n",
        "valid_set =  FashionMnist(phase='valid', transform=data_transform) \n",
        "valid_loader = DataLoader(valid_set, batch_size=64, shuffle=False, num_workers=2)\n",
        "\n",
        "test_set =  FashionMnist(phase='test', transform=data_transform)\n",
        "test_loader = DataLoader(test_set, batch_size=64, shuffle=False, num_workers=2)"
      ],
      "execution_count": 0,
      "outputs": []
    },
    {
      "cell_type": "markdown",
      "metadata": {
        "id": "d3_kZ4pvGG5t",
        "colab_type": "text"
      },
      "source": [
        "## Part 2. Build a CNN on your own (<span style=\"color:red\">3.5 points</span>)\n",
        "Structure of the CNN (**Conv**: convolutional layer, **BN**: Batch Normalization layer, **Max_Pool**: max pooling layer, **FC**: fully connected layer, batch_size=64):\n",
        "![image.png](attachment:image.png)"
      ]
    },
    {
      "cell_type": "markdown",
      "metadata": {
        "id": "1kHgNMlZGG5u",
        "colab_type": "text"
      },
      "source": [
        "To define your own Network, following the rule of thumb:\n",
        "1. Define the layers in `__init__`.\n",
        "2. Do the forward calculation in `forward`."
      ]
    },
    {
      "cell_type": "code",
      "metadata": {
        "id": "xiTKwi_7GG5v",
        "colab_type": "code",
        "colab": {}
      },
      "source": [
        "class Network(nn.Module):\n",
        "    def __init__(self, num_classes):\n",
        "        super().__init__() \n",
        "\n",
        "        # define layers \n",
        "        self.conv1 = nn.Conv2d(in_channels=1, out_channels=6, kernel_size=3, padding=1)\n",
        "        self.bn1 = nn.BatchNorm2d(6)\n",
        "        self.relu1 = nn.ReLU()\n",
        "        self.max_pool1 = nn.MaxPool2d(kernel_size=2, stride=2)\n",
        "        \n",
        "        # TODO: fill the rest part (1.5 points)\n",
        "        self.conv2 = nn.Conv2d(in_channels=6, out_channels=12, kernel_size=3, padding=1)\n",
        "        self.bn2 = nn.BatchNorm2d(12)\n",
        "        self.relu2 = nn.ReLU()\n",
        "        self.max_pool2 = nn.MaxPool2d(kernel_size=2, stride=2)\n",
        "        \n",
        "        self.fc3 = nn.Linear(588,100)\n",
        "        self.relu3 = nn.ReLU()\n",
        "        \n",
        "        self.fc4 = nn.Linear(100,num_classes)\n",
        "\n",
        "\n",
        "    def forward(self, x):\n",
        "        x = self.conv1(x)\n",
        "        x = self.bn1(x)\n",
        "        x = self.relu1(x)     \n",
        "        x = self.max_pool1(x)\n",
        "        \n",
        "        # TODO: fill the rest part, you may need more lines like x = ... (2 points)\n",
        "        x = self.conv2(x)\n",
        "        x = self.bn2(x)\n",
        "        x = self.relu2(x)\n",
        "        x = self.max_pool2(x)\n",
        "\n",
        "        x = x.reshape(x.shape[0], -1)\n",
        "\n",
        "        x = self.fc3(x)\n",
        "        x = self.relu3(x)\n",
        "        \n",
        "        x = self.fc4(x)\n",
        "\n",
        "        return x\n",
        "    "
      ],
      "execution_count": 0,
      "outputs": []
    },
    {
      "cell_type": "markdown",
      "metadata": {
        "id": "9C_-ozQjGG5x",
        "colab_type": "text"
      },
      "source": [
        "## Part 3. Train and test your CNN model (<span style=\"color:red\">6 points or more</span>)\n",
        "### Part 3.1. Create functions for train and evaluation (<span style=\"color:red\">2.5 points</span>)\n",
        "* Instantiate a network.\n",
        "* When training, create an optimizer to take care of network's parameters, calculate the loss and accuracy.\n",
        "* When evaluation, only need to claculate the accuracy."
      ]
    },
    {
      "cell_type": "code",
      "metadata": {
        "id": "d3D_kfi5GG5y",
        "colab_type": "code",
        "colab": {}
      },
      "source": [
        "# instantiate a network\n",
        "net = Network(num_classes=10)\n",
        "\n",
        "# evaluation function\n",
        "def eval(net, data_loader, args=None):\n",
        "    net.eval()\n",
        "    correct = 0.0\n",
        "    num_images = 0.0\n",
        "    for i_batch, (images, labels) in enumerate(data_loader):\n",
        "        outs = net(images) \n",
        "        _, preds = outs.max(1)\n",
        "        correct += preds.eq(labels).sum()\n",
        "        num_images += len(labels)\n",
        "\n",
        "    acc = correct / num_images\n",
        "    return acc\n",
        "\n",
        "def test(net, data_loader, args=None):\n",
        "    net.eval()\n",
        "    correct = 0.0\n",
        "    num_images = 0.0\n",
        "    for i_batch, (images, labels) in enumerate(data_loader):\n",
        "        outs = net(images) \n",
        "        _, preds = outs.max(1)\n",
        "        correct += preds.eq(labels).sum()\n",
        "        num_images += len(labels)\n",
        "\n",
        "    acc = correct / num_images\n",
        "    wandb.log({\n",
        "        \"Test Accuracy\": 100 * acc\n",
        "    })\n",
        "    return acc\n",
        "\n",
        "# training function\n",
        "def train(net, train_loader, valid_loader, args, epoches):\n",
        "    loss_function = torch.nn.CrossEntropyLoss()\n",
        "    # TODO: build your SGD optimizer with learning rate=0.01, momentum=0.9, no weight decay (0.5 points)\n",
        "    optimizer = optim.SGD(net.parameters(), lr=0.01, momentum=0.9) #fill the blank bracket\n",
        "\n",
        "    for epoch in range(epoches):\n",
        "        net.train() \n",
        "        correct = 0.0\n",
        "        num_images = 0.0\n",
        "        for i_batch, (images, labels) in enumerate(train_loader):\n",
        "            # TODO: fill these blanks (0.5 points)\n",
        "            outs =  net(images)\n",
        "            loss = loss_function(outs, labels) \n",
        "            _, preds = torch.max(outs,1)\n",
        "            correct += torch.sum(preds == labels)\n",
        "            num_images += images.shape[0]\n",
        "\n",
        "            \n",
        "            # TODO: clear grads (0.5 points)          \n",
        "            optimizer.zero_grad()\n",
        "            # TODO: backward propogation (0.5 points)\n",
        "            loss.backward()\n",
        "            \n",
        "            # TODO: update parameters (0.5 points)\n",
        "            optimizer.step()\n",
        "            \n",
        "        acc = correct / num_images\n",
        "        acc_eval = eval(net, valid_loader)\n",
        "        print('epoch: %d, lr: %f, accuracy: %f, loss: %f, valid accuracy: %f' % (epoch, optimizer.param_groups[0]['lr'], acc, loss.item(), acc_eval))\n",
        "\n",
        "    return net"
      ],
      "execution_count": 0,
      "outputs": []
    },
    {
      "cell_type": "markdown",
      "metadata": {
        "id": "lcG3ABWqGG51",
        "colab_type": "text"
      },
      "source": [
        "### Part 3.2. Train and test your network (<span style=\"color:red\">1.5 points</span>)"
      ]
    },
    {
      "cell_type": "code",
      "metadata": {
        "id": "m06DJy5bGG52",
        "colab_type": "code",
        "colab": {}
      },
      "source": [
        "print('Please wait patiently, it may take some seconds...')\n",
        "# TODO: train your network here (0.75 points)\n",
        "train(net, train_loader, valid_loader)\n",
        "# TODO: test your network here on testing data (0.75 points)\n",
        "acc_test = test(net, test_loader)\n",
        "print('accuracy on testing data: %f' % acc_test)"
      ],
      "execution_count": 0,
      "outputs": []
    },
    {
      "cell_type": "markdown",
      "metadata": {
        "id": "bZuSLmQbGG54",
        "colab_type": "text"
      },
      "source": [
        "### Part 3.3. Modification for your training (<span style=\"color:red\">1 points or more</span>)\n",
        "Try the following tips to improve your network's performance:\n",
        "* Weight decay? (Please set a weight penalty in optimizer)\n",
        "* More epoches? \n",
        "* Data augmentation? (e.g., use [transforms.RandomHorizontalFlip](https://www.programcreek.com/python/example/104837/torchvision.transforms.RandomHorizontalFlip) when composing a transform)\n",
        "* Maybe more convolutinal or fc layers? \n",
        "* Maybe use a shortcut in the convoluctional layer? (Refer to this [blog](https://towardsdatascience.com/an-overview-of-resnet-and-its-variants-5281e2f56035))\n",
        "\n",
        "**Note**: Each tip has 0.5 points, more tips used, more points you will get. You could come up with your own tips, and they should be reasonable, persuasive and implemented with your code."
      ]
    },
    {
      "cell_type": "code",
      "metadata": {
        "id": "UI89foOCGG55",
        "colab_type": "code",
        "colab": {},
        "outputId": "476b38ea-86a8-4862-cd95-4906252c5096"
      },
      "source": [
        "\n",
        "wandb.init(name=\"initial-architecture\", project=\"assignment3\")\n",
        "wandb.watch_called = False\n",
        "\n",
        "config = wandb.config\n",
        "config.epoches = 10\n",
        "config.lr = 0.1\n",
        "\n",
        "for epoch in range(1,config.epoches + 1):\n",
        "    train(net, train_loader, valid_loader, config, epoch)\n",
        "    test(net, test_loader, config)\n",
        "    \n",
        "wandb.save('model.h5')\n"
      ],
      "execution_count": 0,
      "outputs": [
        {
          "output_type": "display_data",
          "data": {
            "text/html": [
              "\n",
              "                Logging results to <a href=\"https://wandb.com\" target=\"_blank\">Weights & Biases</a> <a href=\"https://docs.wandb.com/integrations/jupyter.html\" target=\"_blank\">(Documentation)</a>.<br/>\n",
              "                Project page: <a href=\"https://app.wandb.ai/andreibaraian/assignment3\" target=\"_blank\">https://app.wandb.ai/andreibaraian/assignment3</a><br/>\n",
              "                Run page: <a href=\"https://app.wandb.ai/andreibaraian/assignment3/runs/fub74pif\" target=\"_blank\">https://app.wandb.ai/andreibaraian/assignment3/runs/fub74pif</a><br/>\n",
              "            "
            ],
            "text/plain": [
              "<IPython.core.display.HTML object>"
            ]
          },
          "metadata": {
            "tags": []
          }
        },
        {
          "output_type": "stream",
          "text": [
            "epoch: 0, lr: 0.010000, accuracy: 0.827660, loss: 0.338138, valid accuracy: 0.868200\n",
            "epoch: 0, lr: 0.010000, accuracy: 0.881740, loss: 0.326088, valid accuracy: 0.875300\n",
            "epoch: 1, lr: 0.010000, accuracy: 0.897040, loss: 0.237562, valid accuracy: 0.877400\n",
            "epoch: 0, lr: 0.010000, accuracy: 0.905440, loss: 0.651416, valid accuracy: 0.890700\n",
            "epoch: 1, lr: 0.010000, accuracy: 0.911020, loss: 0.254748, valid accuracy: 0.900200\n",
            "epoch: 2, lr: 0.010000, accuracy: 0.915960, loss: 0.514193, valid accuracy: 0.898800\n",
            "epoch: 0, lr: 0.010000, accuracy: 0.920320, loss: 0.323086, valid accuracy: 0.905600\n",
            "epoch: 1, lr: 0.010000, accuracy: 0.924980, loss: 0.185306, valid accuracy: 0.901000\n",
            "epoch: 2, lr: 0.010000, accuracy: 0.927520, loss: 0.043279, valid accuracy: 0.906400\n",
            "epoch: 3, lr: 0.010000, accuracy: 0.932380, loss: 0.156639, valid accuracy: 0.894700\n",
            "epoch: 0, lr: 0.010000, accuracy: 0.933740, loss: 0.324331, valid accuracy: 0.898400\n",
            "epoch: 1, lr: 0.010000, accuracy: 0.936580, loss: 0.303410, valid accuracy: 0.905300\n",
            "epoch: 2, lr: 0.010000, accuracy: 0.940760, loss: 0.234655, valid accuracy: 0.893200\n",
            "epoch: 3, lr: 0.010000, accuracy: 0.944660, loss: 0.071985, valid accuracy: 0.904600\n"
          ],
          "name": "stdout"
        }
      ]
    },
    {
      "cell_type": "markdown",
      "metadata": {
        "id": "DuBE3dXxGG58",
        "colab_type": "text"
      },
      "source": [
        "###  Question: give your ideas to accelerate your training process (<span style=\"color:red\">1 points or more</span>)\n",
        "#### Your answer: (the first two is 0.5 points each, the rest is 0.25 points each. More ideas, more points, with the upper limit 2 points in total. Ideas should be reasonable and persuasive.)"
      ]
    },
    {
      "cell_type": "markdown",
      "metadata": {
        "id": "eBNxb27wGG59",
        "colab_type": "text"
      },
      "source": [
        ""
      ]
    }
  ]
}